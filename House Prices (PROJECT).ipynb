{
  "nbformat": 4,
  "nbformat_minor": 0,
  "metadata": {
    "colab": {
      "private_outputs": true,
      "provenance": []
    },
    "kernelspec": {
      "name": "python3",
      "display_name": "Python 3"
    },
    "language_info": {
      "name": "python"
    }
  },
  "cells": [
    {
      "cell_type": "code",
      "execution_count": null,
      "metadata": {
        "id": "_mKKPzV8cWms"
      },
      "outputs": [],
      "source": [
        "import numpy as np\n",
        "import pandas as pd\n",
        "\n",
        "import matplotlib.pyplot as plt\n",
        "import seaborn as sns\n",
        "\n",
        "from sklearn.model_selection import train_test_split\n",
        "from sklearn.metrics import accuracy_score\n",
        "from sklearn.preprocessing import LabelEncoder\n",
        "from sklearn.preprocessing import StandardScaler"
      ]
    },
    {
      "cell_type": "code",
      "source": [
        "df = pd.read_csv('/content/House Prices.csv')\n",
        "df"
      ],
      "metadata": {
        "id": "hXfVOGK8dHl9"
      },
      "execution_count": null,
      "outputs": []
    },
    {
      "cell_type": "code",
      "source": [
        "df.info()"
      ],
      "metadata": {
        "id": "5wUjWrl3dPj9"
      },
      "execution_count": null,
      "outputs": []
    },
    {
      "cell_type": "code",
      "source": [
        "drop_cols = ['Alley', 'PoolQC', 'Fence', 'MiscFeature', 'FireplaceQu']"
      ],
      "metadata": {
        "id": "WkXZ3N5-dv0H"
      },
      "execution_count": null,
      "outputs": []
    },
    {
      "cell_type": "code",
      "source": [
        "from scipy import stats\n",
        "\n",
        "plt.subplots(figsize = (12, 9))\n",
        "sns.distplot(df['SalePrice'], fit = stats.norm)\n",
        "\n",
        "(mu, sigma) = stats.norm.fit(df['SalePrice'])\n",
        "\n",
        "plt.legend(['Normal dist. ($\\mu=$ {:.2f} and $\\sigma=$ {:.2f} )'.format(mu, sigma)], loc = 'best')\n",
        "plt.ylabel('Frequency')"
      ],
      "metadata": {
        "id": "Dvajt8RIgFdb"
      },
      "execution_count": null,
      "outputs": []
    },
    {
      "cell_type": "code",
      "source": [
        "df['SalePrice'] = np.log1p(df['SalePrice'])\n",
        "\n",
        "plt.subplots(figsize = (12, 9))\n",
        "sns.distplot(df['SalePrice'], fit = stats.norm)\n",
        "\n",
        "(mu, sigma) = stats.norm.fit(df['SalePrice'])\n",
        "\n",
        "plt.legend(['Normal dist. ($\\mu=$ {:.2f} and $\\sigma=$ {:.2f} )'.format(mu, sigma)], loc = 'best')\n",
        "plt.ylabel('Frequency')"
      ],
      "metadata": {
        "id": "vBc8LS-UhzNX"
      },
      "execution_count": null,
      "outputs": []
    },
    {
      "cell_type": "code",
      "source": [
        "Isnull = df.isnull().sum()/len(df)*100\n",
        "Isnull = Isnull[Isnull>0]\n",
        "Isnull.sort_values(inplace = True, ascending = False)\n",
        "Isnull"
      ],
      "metadata": {
        "id": "dPlPvIY1jJ9W"
      },
      "execution_count": null,
      "outputs": []
    },
    {
      "cell_type": "code",
      "source": [
        "Isnull = Isnull.to_frame()\n",
        "Isnull.columns = ['count']\n",
        "Isnull.index.names = ['Name']\n",
        "\n",
        "Isnull['Name'] = Isnull.index\n",
        "\n",
        "plt.figure(figsize = (13, 5))\n",
        "sns.set(style = 'whitegrid')\n",
        "sns.barplot(x = 'Name', y = 'count', data = Isnull)\n",
        "plt.xticks(rotation = 90)\n",
        "plt.show()"
      ],
      "metadata": {
        "id": "KU2kiW_Dj8qJ"
      },
      "execution_count": null,
      "outputs": []
    },
    {
      "cell_type": "code",
      "source": [
        "df = df.drop(columns = drop_cols)\n",
        "df"
      ],
      "metadata": {
        "id": "bCRv7UEql7Ea"
      },
      "execution_count": null,
      "outputs": []
    },
    {
      "cell_type": "code",
      "source": [
        "from sklearn.impute import SimpleImputer\n",
        "\n",
        "numeric_columns = df.select_dtypes(include=['float64']).columns\n",
        "categorical_columns = df.select_dtypes(include=['object']).columns\n",
        "\n",
        "numeric_imputer = SimpleImputer(strategy='mean')\n",
        "categorical_imputer = SimpleImputer(strategy='most_frequent')\n",
        "\n",
        "# Impute missing values in numeric columns with mean\n",
        "df[numeric_columns] = numeric_imputer.fit_transform(df[numeric_columns])\n",
        "\n",
        "# Impute missing values in categorical columns with mode\n",
        "df[categorical_columns] = categorical_imputer.fit_transform(df[categorical_columns])\n",
        "\n",
        "df"
      ],
      "metadata": {
        "id": "0EGSZgc_mLOh"
      },
      "execution_count": null,
      "outputs": []
    },
    {
      "cell_type": "code",
      "source": [
        "df.info()"
      ],
      "metadata": {
        "id": "-orhx4vom4XI"
      },
      "execution_count": null,
      "outputs": []
    },
    {
      "cell_type": "code",
      "source": [
        "df_corr = df.select_dtypes(include = [np.number])\n",
        "df_corr.shape\n",
        "\n",
        "df_corr.drop(columns = 'Id')"
      ],
      "metadata": {
        "id": "3RbcXQETo73h"
      },
      "execution_count": null,
      "outputs": []
    },
    {
      "cell_type": "code",
      "source": [
        "corr = df_corr.corr()\n",
        "plt.subplots(figsize = (20, 9))\n",
        "sns.heatmap(corr, annot = True)"
      ],
      "metadata": {
        "id": "LNr8RJvnpnR4"
      },
      "execution_count": null,
      "outputs": []
    },
    {
      "cell_type": "code",
      "source": [
        "thres = (corr['SalePrice'] > 0.5) | (corr['SalePrice'] < -0.5)\n",
        "top_feature = corr.index[abs(thres)]\n",
        "\n",
        "plt.subplots(figsize = (20, 8))\n",
        "top_corr = df[top_feature].corr()\n",
        "sns.heatmap(top_corr, annot = True)\n",
        "plt.show()"
      ],
      "metadata": {
        "id": "xABZPqknqeLD"
      },
      "execution_count": null,
      "outputs": []
    },
    {
      "cell_type": "code",
      "source": [
        "print('Find most important features relative to target')\n",
        "corr = df.corr()\n",
        "corr.sort_values(['SalePrice'], ascending = False, inplace = True)\n",
        "corr.SalePrice"
      ],
      "metadata": {
        "id": "7jFZfM-Fr23T"
      },
      "execution_count": null,
      "outputs": []
    },
    {
      "cell_type": "code",
      "source": [
        "df.columns"
      ],
      "metadata": {
        "id": "jIgX7kOYRr4S"
      },
      "execution_count": null,
      "outputs": []
    },
    {
      "cell_type": "code",
      "source": [
        "df['MiscFeature'] = df['MiscFeature'].fillna('None')\n",
        "df['Alley'] = df['Alley'].fillna('None')\n",
        "df['Fence'] = df['Fence'].fillna('None')\n",
        "df['FireplaceQu'] = df['FireplaceQu'].fillna('None')"
      ],
      "metadata": {
        "id": "9WC99-OlsFfH"
      },
      "execution_count": null,
      "outputs": []
    },
    {
      "cell_type": "code",
      "source": [
        "# Garatgetype, GarageFinish, GarageQual and Garagecond these are replacing with none\n",
        "for col in ['GarageType', 'GarageFinish', 'GarageQual', 'GarageCond']:\n",
        "  df[col] = df[col].fillna('None')\n",
        "\n",
        "# GarageYrBlt, GarageArea and GarageCars these are replacing with zero\n",
        "for col in ['GarageYrBlt', 'GarageArea', 'GarageCars']:\n",
        "  df[col] = df[col].fillna(int(0))\n",
        "\n",
        "# # BsmtFinType2, BsmtExposure, BsmtFinType1, BsmtCond, BsmtQual, these are replacing with None\n",
        "for col in ['BsmtFinType2', 'BsmtExposure', 'BsmtFinType1', 'BsmtCond', 'BsmtQual']:\n",
        "  df[col] = df[col].fillna('None')\n",
        "\n",
        "df['Electrical'] = df['Electrical'].fillna(df['Electrical']).mode()[0]\n",
        "df['MasVnrArea'] = df['MasVnrArea'].fillna(int(0))\n",
        "df['MasVnrType'] = df['MasVnrType'].fillna('None')\n",
        "df['LotFrontage'] = df['LotFrontage'].fillna(df['LotFrontage'].mean())"
      ],
      "metadata": {
        "id": "6BjGRfjOSp5b"
      },
      "execution_count": null,
      "outputs": []
    },
    {
      "cell_type": "code",
      "source": [
        "# df_categ =  df.select_dtypes(include=['object'])\n",
        "catFeatures = [col for col in df.columns if col in df.select_dtypes(include=['object']).columns]\n",
        "\n",
        "le = LabelEncoder()\n",
        "\n",
        "for col in catFeatures:\n",
        "  df[col] = le.fit_transform(df[col])"
      ],
      "metadata": {
        "id": "_h45hnmMTXNV"
      },
      "execution_count": null,
      "outputs": []
    },
    {
      "cell_type": "code",
      "source": [
        "y = df['SalePrice']\n",
        "\n",
        "X = df.drop('SalePrice', axis = 1).values\n",
        "\n",
        "y = y.values"
      ],
      "metadata": {
        "id": "tIjyUSZ1Uh0t"
      },
      "execution_count": null,
      "outputs": []
    },
    {
      "cell_type": "code",
      "source": [
        "X_train, X_test, y_train, y_test = train_test_split(X, y, test_size = 0.2, random_state = 7)"
      ],
      "metadata": {
        "id": "D283rfxvU0Gv"
      },
      "execution_count": null,
      "outputs": []
    },
    {
      "cell_type": "markdown",
      "source": [
        "## LINEAR REGRESSOR: Accuracy --> 88.99\n"
      ],
      "metadata": {
        "id": "RBIexqLZcgLM"
      }
    },
    {
      "cell_type": "code",
      "source": [
        "from sklearn import linear_model\n",
        "model = linear_model.LinearRegression()\n",
        "\n",
        "model.fit(X_train, y_train)\n",
        "\n",
        "print(\"Predict value: \" + str(model.predict([X_test[142]]).round(2)))\n",
        "print(\"Real value: \" + str(y_test[142].round(2)))\n",
        "\n",
        "print('Accuracy: ', (model.score(X_test, y_test)*100).round(2))"
      ],
      "metadata": {
        "id": "K-RsliNjYzB2"
      },
      "execution_count": null,
      "outputs": []
    },
    {
      "cell_type": "markdown",
      "source": [
        "## RANDOM FOREST REGRESSOR: Accuracy --> 89.74"
      ],
      "metadata": {
        "id": "iKV-6GKVckx0"
      }
    },
    {
      "cell_type": "code",
      "source": [
        "from sklearn.ensemble import RandomForestRegressor\n",
        "model = RandomForestRegressor(n_estimators = 1000)\n",
        "\n",
        "model.fit(X_train, y_train)\n",
        "\n",
        "print(\"Predict value: \" + str(model.predict([X_test[142]]).round(2)))\n",
        "print(\"Real value: \" + str(y_test[142].round(2)))\n",
        "\n",
        "print('Accuracy: ', (model.score(X_test, y_test)*100).round(2))"
      ],
      "metadata": {
        "id": "-qxVfPZ4Zshw"
      },
      "execution_count": null,
      "outputs": []
    },
    {
      "cell_type": "markdown",
      "source": [
        "## GRADIENT BOOSTING REGRESSOR: (TOP) Accuracy --> 92.11"
      ],
      "metadata": {
        "id": "qoMER0zwcrd7"
      }
    },
    {
      "cell_type": "code",
      "source": [
        "from sklearn.ensemble import GradientBoostingRegressor\n",
        "GBR = GradientBoostingRegressor(n_estimators = 100, max_depth = 4)\n",
        "\n",
        "GBR.fit(X_train, y_train)\n",
        "\n",
        "print(\"Predict value: \" + str(GBR.predict([X_test[142]]).round(2)))\n",
        "print(\"Real value: \" + str(y_test[142].round(2)))\n",
        "\n",
        "print('Accuracy: ', (GBR.score(X_test, y_test)*100).round(2))"
      ],
      "metadata": {
        "id": "rbwOXh7TanVf"
      },
      "execution_count": null,
      "outputs": []
    },
    {
      "cell_type": "markdown",
      "source": [
        "## Summary Report\n",
        "\n",
        "We have used 3 regression models:\n",
        "\n",
        "**1)** `LINEAR REGRESSOR`\n",
        "\n",
        "**2)** `RANDOM FOREST REGRESSOR`\n",
        "\n",
        "**3)** `GRADIENT BOOSTING REGRESSOR`\n",
        "\n",
        "but among all, the most accuracy is in the `GradientBoostingRegressor`"
      ],
      "metadata": {
        "id": "H7BMsmstd6YD"
      }
    }
  ]
}